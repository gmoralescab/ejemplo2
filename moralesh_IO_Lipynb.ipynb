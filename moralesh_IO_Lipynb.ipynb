{
  "nbformat": 4,
  "nbformat_minor": 0,
  "metadata": {
    "colab": {
      "provenance": [],
      "authorship_tag": "ABX9TyMFguf7hnCw+hMM0wNQW9kG",
      "include_colab_link": true
    },
    "kernelspec": {
      "name": "python3",
      "display_name": "Python 3"
    },
    "language_info": {
      "name": "python"
    }
  },
  "cells": [
    {
      "cell_type": "markdown",
      "metadata": {
        "id": "view-in-github",
        "colab_type": "text"
      },
      "source": [
        "<a href=\"https://colab.research.google.com/github/gmoralescab/ejemplo2/blob/main/moralesh_IO_Lipynb.ipynb\" target=\"_parent\"><img src=\"https://colab.research.google.com/assets/colab-badge.svg\" alt=\"Open In Colab\"/></a>"
      ]
    },
    {
      "cell_type": "code",
      "execution_count": 1,
      "metadata": {
        "colab": {
          "base_uri": "https://localhost:8080/"
        },
        "id": "3d3ji-fn2ekx",
        "outputId": "b5ae6f1b-304b-4049-f23d-d66cb259ce85"
      },
      "outputs": [
        {
          "output_type": "stream",
          "name": "stdout",
          "text": [
            "hola mundo\n"
          ]
        }
      ],
      "source": [
        "print(\"hola mundo\")"
      ]
    },
    {
      "cell_type": "markdown",
      "source": [
        "# PRIMER EJERCICIO\n"
      ],
      "metadata": {
        "id": "wrkuV9uK5G5b"
      }
    },
    {
      "cell_type": "markdown",
      "source": [
        "# SEGUNDO EJERCICIO\n"
      ],
      "metadata": {
        "id": "3y9fUSmc5afg"
      }
    },
    {
      "cell_type": "code",
      "source": [
        "print(\"buenos dias , giselle\")\n"
      ],
      "metadata": {
        "colab": {
          "base_uri": "https://localhost:8080/"
        },
        "id": "sCtzt3Jy5loj",
        "outputId": "583d77f1-0cdc-41dc-f0cd-f1436e40f0e7"
      },
      "execution_count": 2,
      "outputs": [
        {
          "output_type": "stream",
          "name": "stdout",
          "text": [
            "buenos dias , giselle\n"
          ]
        }
      ]
    }
  ]
}